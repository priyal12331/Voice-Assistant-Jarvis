{
 "metadata": {
  "language_info": {
   "codemirror_mode": {
    "name": "ipython",
    "version": 3
   },
   "file_extension": ".py",
   "mimetype": "text/x-python",
   "name": "python",
   "nbconvert_exporter": "python",
   "pygments_lexer": "ipython3",
   "version": "3.7.1-final"
  },
  "orig_nbformat": 2,
  "kernelspec": {
   "name": "python3",
   "display_name": "Python 3",
   "language": "python"
  }
 },
 "nbformat": 4,
 "nbformat_minor": 2,
 "cells": [
  {
   "cell_type": "code",
   "execution_count": 2,
   "metadata": {},
   "outputs": [],
   "source": [
    "import pyttsx3\n",
    "import datetime\n",
    "import speech_recognition as sr    #Library for performing speech recognition with the Google Speech Recognition API\n",
    "import webbrowser"
   ]
  },
  {
   "cell_type": "code",
   "execution_count": 3,
   "metadata": {},
   "outputs": [],
   "source": [
    "engine = pyttsx3.init()\n",
    "g = False\n",
    "voices = engine.getProperty('voices')\n",
    "if g:\n",
    "    engine.setProperty('voice', voices[0].id) # 0 for female voice, 1 for male voice\n",
    "else:\n",
    "    engine.setProperty('voice', voices[1].id) # 0 for female voice, 1 for male voice\n"
   ]
  },
  {
   "cell_type": "code",
   "execution_count": 4,
   "metadata": {},
   "outputs": [],
   "source": [
    "def say(audio):\n",
    "    engine.say(audio)\n",
    "    engine.runAndWait()   # Blocks while running all the queued commands"
   ]
  },
  {
   "cell_type": "code",
   "execution_count": 5,
   "metadata": {},
   "outputs": [],
   "source": [
    "def greet():\n",
    "    '''\n",
    "        This will greet me..\n",
    "    '''\n",
    "    # Get the current hr\n",
    "    hr = datetime.datetime.now().hour\n",
    "    print(hr)\n",
    "    if hr >= 6 and hr < 12:\n",
    "        say(\"Good Morning Mr. Paras\")\n",
    "    elif hr >= 12 and hr < 23:\n",
    "        say(\"Good evening Mr. Paras\")\n",
    "    elif hr == 23:\n",
    "        say(\"It's time to shut down the laptop and have a good night sleep master\")\n",
    "        say(\"Shutting everything down...\")\n",
    "        quit()\n",
    "    greeting = \"Hi.. My name is \"\n",
    "    if g:\n",
    "        greeting = greeting+\"Emma \"\n",
    "    else:\n",
    "        greeting = greeting + \"Jarvis \"\n",
    "    say(greeting + \", I'm your personal assistant, how may I help you?\")"
   ]
  },
  {
   "cell_type": "code",
   "execution_count": 6,
   "metadata": {},
   "outputs": [],
   "source": [
    "def takeCommand():\n",
    "    r = sr.Recognizer()                                     # Make a recogizer for microphone\n",
    "    with sr.Microphone() as source:                         # Capturing voice\n",
    "        print(\"Listening ...\")\n",
    "        r.pause_threshold = 1.0                            # By default pause_threshold is 0.5\n",
    "        r.adjust_for_ambient_noise(source, duration = 1.0)  # listen for 1 second to calibrate the energy threshold for ambient noise levels\n",
    "        audio = r.listen(source)                            # now when we listen, the energy threshold is already set to a good value, and we can reliably catch speech right away\n",
    "        try:\n",
    "            print(\"Recognizing...\")\n",
    "            query = r.recognize_google(audio, language=\"en-IN\")     # recognizing the voice, converting speech to text\n",
    "            print(f\"User said: {query}\")\n",
    "        except Exception as e:\n",
    "            print(e)                                        # Printing the error\n",
    "            return \"none\"\n",
    "        return query"
   ]
  },
  {
   "cell_type": "code",
   "execution_count": 7,
   "metadata": {},
   "outputs": [
    {
     "output_type": "stream",
     "name": "stdout",
     "text": [
      "15\n",
      "Listening ...\n",
      "Recognizing...\n",
      "User said: open YouTube\n"
     ]
    }
   ],
   "source": [
    "if __name__ == \"__main__\":\n",
    "    greet()\n",
    "    user_query = takeCommand().lower()\n",
    "    # print(user_query)\n",
    "    if user_query==\"none\":\n",
    "        say(\"Sorry I didn't get what you said.\")\n",
    "    elif \"youtube\" in user_query:\n",
    "        webbrowser.get().open(\"https://youtube.com/\")\n",
    "    elif \"google\" in user_query:\n",
    "        webbrowser.get().open(\"https://google.com/\")\n",
    "    elif \"stackoverflow\" in user_query:\n",
    "        webbrowser.get().open(\"https://www.stackoverflow.com/\")\n",
    "    else:\n",
    "        webbrowser.get().open(\"https://www.google.com/search?q=\"+user_query)\n",
    "    "
   ]
  },
  {
   "cell_type": "code",
   "execution_count": null,
   "metadata": {},
   "outputs": [],
   "source": []
  }
 ]
}